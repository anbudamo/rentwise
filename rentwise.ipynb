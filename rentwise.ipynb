{
 "cells": [
  {
   "cell_type": "code",
   "execution_count": 1,
   "metadata": {},
   "outputs": [
    {
     "name": "stdout",
     "output_type": "stream",
     "text": [
      "/opt/anaconda3/bin/python\n",
      "python not found\n",
      "Requirement already satisfied: mysql-connector-python in /opt/anaconda3/lib/python3.12/site-packages (9.0.0)\n",
      "Requirement already satisfied: pandas in /opt/anaconda3/lib/python3.12/site-packages (2.2.2)\n",
      "Requirement already satisfied: numpy>=1.26.0 in /opt/anaconda3/lib/python3.12/site-packages (from pandas) (1.26.4)\n",
      "Requirement already satisfied: python-dateutil>=2.8.2 in /opt/anaconda3/lib/python3.12/site-packages (from pandas) (2.9.0.post0)\n",
      "Requirement already satisfied: pytz>=2020.1 in /opt/anaconda3/lib/python3.12/site-packages (from pandas) (2024.1)\n",
      "Requirement already satisfied: tzdata>=2022.7 in /opt/anaconda3/lib/python3.12/site-packages (from pandas) (2023.3)\n",
      "Requirement already satisfied: six>=1.5 in /opt/anaconda3/lib/python3.12/site-packages (from python-dateutil>=2.8.2->pandas) (1.16.0)\n"
     ]
    }
   ],
   "source": [
    "#!pip3 install mysql-connector-python pandas # installs both libraries in the default environment to use in JN\n",
    "\n",
    "#import mysql.connector\n",
    "#import pandas as pd\n",
    "\n",
    "import sys\n",
    "print(sys.executable)\n",
    "!which python\n",
    "\n",
    "import sys\n",
    "!{sys.executable} -m pip install mysql-connector-python pandas\n",
    "import mysql.connector\n",
    "import pandas as pd"
   ]
  },
  {
   "cell_type": "markdown",
   "metadata": {},
   "source": [
    "### Why It Worked\n",
    "When you run !pip install mysql-connector-python pandas, Jupyter might be using a different Python environment than the one where your Jupyter notebook kernel is running. This can happen if you have multiple Python installations or environments on your machine.\n",
    "\n",
    "By using !{sys.executable} -m pip install mysql-connector-python pandas, you are ensuring that the pip command is executed in the same environment as your Jupyter notebook kernel. This guarantees that the installed packages are available to the interpreter that is running the notebook.\n",
    "\n",
    "### Summary\n",
    "sys.executable: Ensures the command uses the correct Python interpreter.\n",
    "-m pip install: Uses the pip module with the specified interpreter.\n",
    "!{}: Runs the command in the shell from within the notebook."
   ]
  },
  {
   "cell_type": "code",
   "execution_count": 33,
   "metadata": {},
   "outputs": [
    {
     "name": "stdout",
     "output_type": "stream",
     "text": [
      "Welcome to the BI Properties rent roll manager!\n",
      "What would you like to do today?\n"
     ]
    },
    {
     "name": "stdin",
     "output_type": "stream",
     "text": [
      "\t--> Enter 'V' to view rent roll\n",
      "\t--> Enter 'Q' to quit session\n",
      "\t--> Enter '+' to add rent log\n",
      " +\n",
      "Enter month:  8\n",
      "Enter first name:  Abinaya\n",
      "Enter last name:  Damo\n",
      "Enter amount:  1550\n",
      "\t--> Enter 'V' to view rent roll\n",
      "\t--> Enter 'Q' to quit session\n",
      "\t--> Enter '+' to add rent log\n",
      " V\n"
     ]
    },
    {
     "name": "stdout",
     "output_type": "stream",
     "text": [
      "[(7, 'Camillo', 'Alvarez', Decimal('1750.00')), (8, 'Abinaya', 'Damo', Decimal('1550.00'))]\n",
      "[(7, 'Camillo', 'Alvarez', Decimal('1750.00')), (8, 'Abinaya', 'Damo', Decimal('1550.00'))]\n"
     ]
    },
    {
     "name": "stdin",
     "output_type": "stream",
     "text": [
      "Would you like to do anything else (Y/N)?\n",
      " N\n"
     ]
    },
    {
     "name": "stdout",
     "output_type": "stream",
     "text": [
      "---session ended---\n"
     ]
    }
   ],
   "source": [
    "def create_connection():\n",
    "    connection = mysql.connector.connect(host=\"localhost\", user=\"root\", password=\"#Diamond2004\", database=\"rentroll\") # we specify database name so that we can directly refer to a table and retrieve data from it\n",
    "    return connection\n",
    "    \n",
    "def show_databases():\n",
    "    mydb = create_connection()\n",
    "    mycursor = mydb.cursor() # like a mouse cursor will point to a particular place\n",
    "    mycursor.execute(\"show databases\") # executed means the object is creater, but need to do next instruction to retrieve and display\n",
    "    for dbs in mycursor:\n",
    "        print(dbs)\n",
    "    mydb.close()\n",
    "\n",
    "def show_data():\n",
    "    mydb = create_connection()\n",
    "    cursor = mydb.cursor()\n",
    "    cursor.execute(\"SELECT * FROM rent_logs;\")\n",
    "    rows = cursor.fetchall()\n",
    "    for r in rows:\n",
    "        print(r)\n",
    "    cursor.close()\n",
    "    mydb.close()\n",
    "\n",
    "def create_table():\n",
    "    mydb = create_connection()\n",
    "    cursor = mydb.cursor() # to store the cursor of mydb that is returned\n",
    "    create_table_query = \"\"\"\n",
    "    CREATE TABLE rent_logs (\n",
    "        month INT,\n",
    "        first_name VARCHAR(50),\n",
    "        last_name VARCHAR(50),\n",
    "        amount_paid DECIMAL(8,2)\n",
    "    )\n",
    "    \"\"\"\n",
    "    cursor.execute(create_table_query)\n",
    "    mydb.commit()\n",
    "    cursor.close() \n",
    "    mydb.close()\n",
    "\n",
    "def add_rent_log(month, first_name, last_name, amount_paid):\n",
    "    mydb = create_connection()\n",
    "    cursor = mydb.cursor()\n",
    "    insert_row_query = \"\"\"\n",
    "    INSERT INTO rent_logs (month, first_name, last_name, amount_paid)\n",
    "    VALUES(%s, %s, %s, %s);\n",
    "    \"\"\"\n",
    "    cursor.execute(insert_row_query, (month, first_name, last_name, amount_paid))\n",
    "    mydb.commit()\n",
    "    cursor.close()\n",
    "    mydb.close()\n",
    "\n",
    "def run_rent_roll_manager():\n",
    "    print(\"Welcome to the BI Properties rent roll manager!\\nWhat would you like to do today?\")\n",
    "    while True:\n",
    "        x = input(\"\"\"\\t--> Enter 'V' to view rent roll\\n\\t--> Enter 'Q' to quit session\\n\\t--> Enter '+' to add rent log\\n\"\"\")\n",
    "        try: \n",
    "            assert x == \"V\" or x == \"v\" or x == \"Q\" or x == \"q\" or x == \"+\"\n",
    "        except AssertionError:\n",
    "            print(\"Sorry, the value %s isn't recognized\" % x)\n",
    "            continue\n",
    "        if x == 'Q' or x == 'q':\n",
    "            break;\n",
    "        elif x == 'V':\n",
    "            show_data()\n",
    "            repeat = input(\"Would you like to do anything else (Y/N)?\\n\")\n",
    "            if repeat == 'Y' or repeat == 'y': continue\n",
    "            elif repeat == 'N' or repeat == 'n': break\n",
    "        elif x == '+':\n",
    "            m = input(\"Enter month: \")\n",
    "            fn = input(\"Enter first name: \")\n",
    "            ln = input(\"Enter last name: \")\n",
    "            a = input(\"Enter amount: \")\n",
    "            try:\n",
    "                assert int(m) >= 1 and int(m) <= 12\n",
    "            except AssertionError:\n",
    "                print(\"Sorry, invalid month value, %s, entered\" % m)\n",
    "                continue\n",
    "            add_rent_log(m, fn, ln, a)\n",
    "            \n",
    "    print(\"---session ended---\")\n",
    "\n",
    "run_rent_roll_manager() \n",
    "# show_databases()\n",
    "# create_table()\n",
    "# add_rent_log(7, \"Camillo\", \"Alvarez\", 1750.00)\n",
    "# show_data()"
   ]
  },
  {
   "cell_type": "markdown",
   "metadata": {},
   "source": [
    "### in a function that has to connect to a mysql database:\n",
    "1. establish a connection to the database\n",
    "2. manipulate the cursor to carry out desired function- can first store the cursor object in a python variable\n",
    "3. implement the main part of the function as required\n",
    "4. commit the changes using commit()\n",
    "5. call close() on the cursor object and the connection instance"
   ]
  },
  {
   "cell_type": "markdown",
   "metadata": {},
   "source": [
    "### mySQL commands:\n",
    "- to select a table- SELECT * FROM \"table_name\";\n",
    "    - \\* means 'all'\n",
    "- to rename a table- RENAME TABLE \"table_name\" TO \"new_table_name\";\n",
    "- to delete (drop) a table- DROP TABLE \"table_name\";\n",
    "- to alter a table (example)-\n",
    "    ALTER TABLE \"table_name\"\n",
    "    ADD \"new_column_name\" \"DATATYPE\";\n",
    "- to alter a column name (example)-\n",
    "    ALTER TABLE \"table_name\"\n",
    "    RENAME COLUMN \"column_name\" TO \"new_column_name\";\n",
    "- to alter a column datatype (example):\n",
    "    ALTER TABLE \"table_name\"\n",
    "    MODIFY COLUMN \"column_name\" \"NEWDATATYPE\";\n",
    "- to alter column position (example)-\n",
    "    ALTER TABLE \"table_name\"\n",
    "    MODIFY \"column_name\" \"DATATYPE\"\n",
    "    AFTER \"another_column_name\"; // if you want the column to be moved to the first position you can say just FIRST instead\n",
    "- to drop a column-\n",
    "    ALTER TABLE \"table_name\"\n",
    "    DROP COLUMN \"column_name\";\n",
    "\n",
    "- to insert a row\n",
    "    INSERT INTO \"table_name\"\n",
    "    VALUES(); // have to enter the row data in the parenthesis in the order of the column names\n",
    "\n",
    "- to switch to a database in terminal- USE \"db_name\""
   ]
  },
  {
   "cell_type": "markdown",
   "metadata": {},
   "source": [
    "### Project Roadmap\n",
    "1. Basic for retrieval\n",
    "    - retrieve the first and last name columns\n",
    "2. Complex retrieval\n",
    "    - use indexing of first name or month to retrieve amount paid or other value\n",
    "3. Basic user input handling\n",
    "    - while loop with singular prompt and terminate case\n",
    "5. Complex input handling"
   ]
  },
  {
   "cell_type": "code",
   "execution_count": 19,
   "metadata": {},
   "outputs": [
    {
     "name": "stdout",
     "output_type": "stream",
     "text": [
      "Welcome to the BI Properties rent roll manager!\n",
      "What would you like to do today?\n"
     ]
    },
    {
     "name": "stdin",
     "output_type": "stream",
     "text": [
      "\t--> Enter 'V' to view rent roll\n",
      "\t--> Enter 'Q' to quit session\n",
      " V\n"
     ]
    },
    {
     "name": "stdout",
     "output_type": "stream",
     "text": [
      "('information_schema',)\n",
      "('mysql',)\n",
      "('performance_schema',)\n",
      "('rentroll',)\n",
      "('sys',)\n"
     ]
    },
    {
     "name": "stdin",
     "output_type": "stream",
     "text": [
      "Would you like to do anything else (Y/N)? N\n"
     ]
    },
    {
     "name": "stdout",
     "output_type": "stream",
     "text": [
      "---session ended---\n"
     ]
    }
   ],
   "source": [
    "def create_connection():\n",
    "    connection = mysql.connector.connect(host=\"localhost\", user=\"root\", password=\"#Diamond2004\", database=\"rentroll\") # we specify database name so that we can directly refer to a table and retrieve data from it\n",
    "    return connection\n",
    "    \n",
    "def show_databases():\n",
    "    mydb = create_connection()\n",
    "    mycursor = mydb.cursor() # like a mouse cursor will point to a particular place\n",
    "    mycursor.execute(\"show databases\") # executed means the object is creater, but need to do next instruction to retrieve and display\n",
    "    for dbs in mycursor:\n",
    "        print(dbs)\n",
    "    mydb.close()\n",
    "\n",
    "def create_table():\n",
    "    mydb = create_connection()\n",
    "    cursor = mydb.cursor() # to store the cursor of mydb that is returned\n",
    "    create_table_query = \"\"\"\n",
    "    CREATE TABLE rent_logs (\n",
    "        month INT,\n",
    "        first_name VARCHAR(50),\n",
    "        last_name VARCHAR(50),\n",
    "        amount_paid DECIMAL(5,2)\n",
    "    )\n",
    "    \"\"\"\n",
    "    cursor.execute(create_table_query)\n",
    "    mydb.commit()\n",
    "    cursor.close() \n",
    "    mydb.close()\n",
    "\n",
    "def add_rent_log(month, first_name, last_name, amount_paid):\n",
    "    mydb = create_connection()\n",
    "    cursor = mydb.cursor()\n",
    "    insert_row_query = \"\"\"\n",
    "    INSERT INTO rent_logs (month, first_name, last_name, amount_paid)\n",
    "    VALUES(%s, %s, %s, %s);\n",
    "    \"\"\"\n",
    "    cursor.execute(insert_row_query, (month, first_name, last_name, amount_paid))\n",
    "    mydb.commit()\n",
    "    cursor.close()\n",
    "    mydb.close()\n",
    "\n",
    "def alter_column():\n",
    "    mydb = create_connection()\n",
    "    cursor = mydb.cursor()\n",
    "    alter_column_query = \"\"\"\n",
    "        ALTER TABLE rent_logs\n",
    "        MODIFY COLUMN amount_paid DECIMAL(8, 2)\n",
    "    \"\"\"\n",
    "    cursor.execute(alter_column_query)\n",
    "    mydb.commit()\n",
    "    cursor.close()\n",
    "    mydb.close()\n",
    "\n",
    "def show_columns():\n",
    "    mydb = create_connection()\n",
    "    cursor = mydb.cursor()\n",
    "    cursor.execute(\"SELECT * FROM rent_logs\")\n",
    "    for columns in cursor:\n",
    "        print(columns)\n",
    "    cursor.close()\n",
    "    mydb.close()\n",
    "\n",
    "# show_databases()\n",
    "# create_table()\n",
    "# add_rent_log(7, \"Camillo\", \"Alvarez\", 1750.00)\n",
    "# alter_column()\n",
    "# show_columns()"
   ]
  },
  {
   "cell_type": "code",
   "execution_count": null,
   "metadata": {},
   "outputs": [],
   "source": []
  }
 ],
 "metadata": {
  "kernelspec": {
   "display_name": "Python 3 (ipykernel)",
   "language": "python",
   "name": "python3"
  },
  "language_info": {
   "codemirror_mode": {
    "name": "ipython",
    "version": 3
   },
   "file_extension": ".py",
   "mimetype": "text/x-python",
   "name": "python",
   "nbconvert_exporter": "python",
   "pygments_lexer": "ipython3",
   "version": "3.12.4"
  }
 },
 "nbformat": 4,
 "nbformat_minor": 4
}
